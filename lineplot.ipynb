{
  "nbformat": 4,
  "nbformat_minor": 0,
  "metadata": {
    "colab": {
      "name": "lineplot.ipynb",
      "provenance": [],
      "authorship_tag": "ABX9TyMFDjMCx6bhHe9o3LyogqLg",
      "include_colab_link": true
    },
    "kernelspec": {
      "name": "python3",
      "display_name": "Python 3"
    },
    "language_info": {
      "name": "python"
    }
  },
  "cells": [
    {
      "cell_type": "markdown",
      "metadata": {
        "id": "view-in-github",
        "colab_type": "text"
      },
      "source": [
        "<a href=\"https://colab.research.google.com/github/dohyeonghan/data_visualization_study/blob/main/lineplot.ipynb\" target=\"_parent\"><img src=\"https://colab.research.google.com/assets/colab-badge.svg\" alt=\"Open In Colab\"/></a>"
      ]
    },
    {
      "cell_type": "code",
      "source": [
        "!sudo apt-get install -y fonts-nanum\n",
        "!sudo fc-cache -fv\n",
        "!rm ~/.cache/matplotlib -rf"
      ],
      "metadata": {
        "colab": {
          "base_uri": "https://localhost:8080/"
        },
        "id": "4QkEq3sefAfu",
        "outputId": "a2064f9e-ef79-44cc-f43e-9cdbc7bdb778"
      },
      "execution_count": 1,
      "outputs": [
        {
          "output_type": "stream",
          "name": "stdout",
          "text": [
            "Reading package lists... Done\n",
            "Building dependency tree       \n",
            "Reading state information... Done\n",
            "fonts-nanum is already the newest version (20170925-1).\n",
            "The following package was automatically installed and is no longer required:\n",
            "  libnvidia-common-460\n",
            "Use 'sudo apt autoremove' to remove it.\n",
            "0 upgraded, 0 newly installed, 0 to remove and 49 not upgraded.\n",
            "/usr/share/fonts: caching, new cache contents: 0 fonts, 1 dirs\n",
            "/usr/share/fonts/truetype: caching, new cache contents: 0 fonts, 3 dirs\n",
            "/usr/share/fonts/truetype/humor-sans: caching, new cache contents: 1 fonts, 0 dirs\n",
            "/usr/share/fonts/truetype/liberation: caching, new cache contents: 16 fonts, 0 dirs\n",
            "/usr/share/fonts/truetype/nanum: caching, new cache contents: 10 fonts, 0 dirs\n",
            "/usr/local/share/fonts: caching, new cache contents: 0 fonts, 0 dirs\n",
            "/root/.local/share/fonts: skipping, no such directory\n",
            "/root/.fonts: skipping, no such directory\n",
            "/var/cache/fontconfig: cleaning cache directory\n",
            "/root/.cache/fontconfig: not cleaning non-existent cache directory\n",
            "/root/.fontconfig: not cleaning non-existent cache directory\n",
            "fc-cache: succeeded\n"
          ]
        }
      ]
    },
    {
      "cell_type": "code",
      "execution_count": 2,
      "metadata": {
        "colab": {
          "base_uri": "https://localhost:8080/",
          "height": 311
        },
        "id": "mlhppyhzeVBj",
        "outputId": "9219ab79-6aac-4c27-dacc-2509253fe191"
      },
      "outputs": [
        {
          "output_type": "stream",
          "name": "stdout",
          "text": [
            "brokenLineExam_01.png파일이 저장되었습니다.\n"
          ]
        },
        {
          "output_type": "display_data",
          "data": {
            "text/plain": [
              "<Figure size 432x288 with 1 Axes>"
            ],
            "image/png": "[encoded data removed]"
          },
          "metadata": {
            "needs_background": "light"
          }
        }
      ],
      "source": [
        "\n",
        "import numpy as np\n",
        "import pandas as pd\n",
        "import matplotlib.pyplot as plt\n",
        "import matplotlib\n",
        "# matplotlib.font_manager._rebuild()\n",
        "plt.rc('font', family = 'NanumBarunGothic')\n",
        "cnt, PNG, UNDERBAR = 0, '.png', '_'\n",
        "CHART_NAME = 'brokenLineExam'\n",
        "filename = '/content/주요발생국가주간동향(4월2째주).csv'\n",
        "\n",
        "data = pd.read_csv(filename, index_col='국가')\n",
        "# print(data)\n",
        "chartdata = data['4월06일']\n",
        "# print(chartdata)\n",
        "# print(type(chartdata))\n",
        "\n",
        "plt.plot(chartdata, color = 'blue', linestyle = 'solid', marker='o')\n",
        "# plt.show()\n",
        "\n",
        "'''y축에 대한 눈금'''\n",
        "YTICKS_INTERVAL = 50000\n",
        "maxlim = (int(chartdata.max() / YTICKS_INTERVAL) + 1) * YTICKS_INTERVAL\n",
        "# plt.show()\n",
        "values = np.arange(0, maxlim + 1, YTICKS_INTERVAL)\n",
        "plt.yticks(values, ['%s' % format(val, ',') for val in values])\n",
        "\n",
        "'''차트 눈금, 레이블'''\n",
        "\n",
        "plt.grid(True)\n",
        "plt.xlabel('국가명')\n",
        "plt.ylabel('발생 건수')\n",
        "plt.title('4월 6일 코로나 발생 건수')\n",
        "\n",
        "cnt += 1\n",
        "savefile = CHART_NAME + UNDERBAR + str(cnt).zfill(2) + PNG\n",
        "plt.savefig(savefile, dpi = 400)\n",
        "print(savefile + '파일이 저장되었습니다.')\n"
      ]
    },
    {
      "cell_type": "code",
      "source": [
        ""
      ],
      "metadata": {
        "id": "oMNpF45yegT1"
      },
      "execution_count": null,
      "outputs": []
    }
  ]
}